{
 "cells": [
  {
   "cell_type": "markdown",
   "metadata": {},
   "source": [
    "# P1: The Stroop Effect"
   ]
  },
  {
   "cell_type": "markdown",
   "metadata": {},
   "source": [
    "In this project, we will have a look at a classic phenomenon from experimental psychology called the Stroop Effect.\n",
    "\n",
    "Link to The Stroop Effect (https://en.wikipedia.org/wiki/Stroop_effect)\n"
   ]
  },
  {
   "cell_type": "markdown",
   "metadata": {},
   "source": [
    "### An investigation for determining the time it takes to name the ink colors in equally-sized lists.\n",
    "In a Stroop task, participants are presented with a list of words, with each word displayed in a color of ink. The participant’s task is to say out loud the color of the ink in which the word is printed. \n",
    "The task has two conditions: \n",
    "- a congruent words condition, \n",
    "- and an incongruent words condition.\n",
    "\n",
    "In the congruent words condition, the words being displayed are color words whose names match the colors in which they are printed: for example RED, BLUE.   \n",
    "\n",
    "In the incongruent words condition, the words displayed are color words whose names do not match the colors in which they are printed: for example PURPLE, ORANGE.   \n",
    "\n",
    "In each case, we measure the time it takes to name the ink colors in equally-sized lists. Each participant will go through and record a time from each condition."
   ]
  },
  {
   "cell_type": "markdown",
   "metadata": {},
   "source": [
    "## 1. What is our independent variable? What is our dependent variable?\n",
    "\n",
    "### Independent Variable:\n",
    "In the congruent words condition, the words being displayed are color words whose names match the colors in which they are printed. The value of the variable in this case \"True\".\n",
    "\n",
    "In the incongruent words condition, the words displayed are color words whose names do not match the colors in which they are printed. The value of the variable - \"False\".\n",
    "\n",
    "### Dependent Variable:\n",
    "Reading time.  \n",
    "\n",
    "The operational definition of the dependent variable 'Reading time' is 'the time it takes to name the ink colors in equality-sized lists.' "
   ]
  },
  {
   "cell_type": "markdown",
   "metadata": {},
   "source": [
    "## 2.What is an appropriate set of hypothesis for this task? What kind of statistical test do you expect to perform? Justify your choices.  \n",
    "### The set of hypothesis:\n",
    "1) Supposing the value of variable 'Condtion' ( congruent words or incongruent words) does not significantly affect the value of the variable 'Reading time', let us formulate the null hypothesis.  \n",
    "\n",
    "$$ H_0: \\mu_1  = \\mu_2$$\n",
    "where $\\mu_1$- the population mean of the dependent variable 'Reading time' under the congruent words condition;\n",
    "$\\mu_2$ - the population mean of the dependent varaible 'Reading time' under the incongrument words condition. \n",
    "\n",
    "\n",
    "2) This time let us suppose that in the in congurent words condition the value of the varibale 'Reading time' does not equal(exceeds) the value of this indicator for the congruent words condtion. The alternative hypothesis is \n",
    "\n",
    "$$ H_0: \\mu_1  < \\mu_2$$\n",
    "where $\\mu_1$- the population mean of the dependent variable 'Reading time' under the congruent words condition;\n",
    "$\\mu_2$ - the population mean of the dependent varaible 'Reading time' under the incongrument words condition. \n",
    "\n",
    "Here we can use the one-sided alternative hypothesis, since the tendency of increasing the time of reading for the incongruent words condition is clearly traceable.\n",
    "\n",
    "\n",
    "### What kind of statistical test do you expect to perform?\n",
    "I think a **t-test** will be needed in this case.  \n",
    "\n",
    "This test usually helps us to compare whether two groups have different average values. The t-test asks can be a difference between avergaes of two groups because of random chance in samle selection or not. A difference is meaningful if it's large or the sample size is big or responses are not widely spread out( the standard deviation is small).  \n",
    "\n",
    "Perhaps, it should be a test of the null hypothesis that the difference between two responses measured on the same statistical unit has a mean value of zero.  This is often referred to as the 'paired' or 'repeated measures' t-test. \n",
    "\n",
    "And about the confidence intervals. Of course, in applied practice they are typically stated at the 95% confidence level. But here it's possiable to use the level 99% because of the obvious data trend."
   ]
  },
  {
   "cell_type": "markdown",
   "metadata": {},
   "source": [
    "## 3.Report some descriptive statistics regarding this dataset. Include at least one measure of central tendency and at least one measure of variability.\n",
    "至少包括一个衡量中心趋势的指标和至少一个衡量变异性的指标。"
   ]
  },
  {
   "cell_type": "code",
   "execution_count": 1,
   "metadata": {},
   "outputs": [],
   "source": [
    "import os \n",
    "import pandas as pd\n",
    "file_path = os.path.join(os.getcwd(), 'stroopdata.csv')"
   ]
  },
  {
   "cell_type": "code",
   "execution_count": 2,
   "metadata": {},
   "outputs": [
    {
     "data": {
      "text/html": [
       "<div>\n",
       "<style scoped>\n",
       "    .dataframe tbody tr th:only-of-type {\n",
       "        vertical-align: middle;\n",
       "    }\n",
       "\n",
       "    .dataframe tbody tr th {\n",
       "        vertical-align: top;\n",
       "    }\n",
       "\n",
       "    .dataframe thead th {\n",
       "        text-align: right;\n",
       "    }\n",
       "</style>\n",
       "<table border=\"1\" class=\"dataframe\">\n",
       "  <thead>\n",
       "    <tr style=\"text-align: right;\">\n",
       "      <th></th>\n",
       "      <th>Congruent</th>\n",
       "      <th>Incongruent</th>\n",
       "    </tr>\n",
       "  </thead>\n",
       "  <tbody>\n",
       "    <tr>\n",
       "      <th>0</th>\n",
       "      <td>12.079</td>\n",
       "      <td>19.278</td>\n",
       "    </tr>\n",
       "    <tr>\n",
       "      <th>1</th>\n",
       "      <td>16.791</td>\n",
       "      <td>18.741</td>\n",
       "    </tr>\n",
       "    <tr>\n",
       "      <th>2</th>\n",
       "      <td>9.564</td>\n",
       "      <td>21.214</td>\n",
       "    </tr>\n",
       "    <tr>\n",
       "      <th>3</th>\n",
       "      <td>8.630</td>\n",
       "      <td>15.687</td>\n",
       "    </tr>\n",
       "    <tr>\n",
       "      <th>4</th>\n",
       "      <td>14.669</td>\n",
       "      <td>22.803</td>\n",
       "    </tr>\n",
       "  </tbody>\n",
       "</table>\n",
       "</div>"
      ],
      "text/plain": [
       "   Congruent  Incongruent\n",
       "0     12.079       19.278\n",
       "1     16.791       18.741\n",
       "2      9.564       21.214\n",
       "3      8.630       15.687\n",
       "4     14.669       22.803"
      ]
     },
     "execution_count": 2,
     "metadata": {},
     "output_type": "execute_result"
    }
   ],
   "source": [
    "dataFrame = pd.read_csv(file_path)\n",
    "dataFrame.head()"
   ]
  },
  {
   "cell_type": "markdown",
   "metadata": {},
   "source": [
    "The data shows significant difference between the time of reading: the congurent words condition has a higher speed. This conclusion is confirmed by the description of each database column. For the congrument words condition all the important indicators(mean, min, max) for the time of reading are less."
   ]
  },
  {
   "cell_type": "code",
   "execution_count": 4,
   "metadata": {},
   "outputs": [
    {
     "data": {
      "text/html": [
       "<div>\n",
       "<style scoped>\n",
       "    .dataframe tbody tr th:only-of-type {\n",
       "        vertical-align: middle;\n",
       "    }\n",
       "\n",
       "    .dataframe tbody tr th {\n",
       "        vertical-align: top;\n",
       "    }\n",
       "\n",
       "    .dataframe thead th {\n",
       "        text-align: right;\n",
       "    }\n",
       "</style>\n",
       "<table border=\"1\" class=\"dataframe\">\n",
       "  <thead>\n",
       "    <tr style=\"text-align: right;\">\n",
       "      <th></th>\n",
       "      <th>Congruent</th>\n",
       "      <th>Incongruent</th>\n",
       "    </tr>\n",
       "  </thead>\n",
       "  <tbody>\n",
       "    <tr>\n",
       "      <th>count</th>\n",
       "      <td>24.000000</td>\n",
       "      <td>24.000000</td>\n",
       "    </tr>\n",
       "    <tr>\n",
       "      <th>mean</th>\n",
       "      <td>14.051125</td>\n",
       "      <td>22.015917</td>\n",
       "    </tr>\n",
       "    <tr>\n",
       "      <th>std</th>\n",
       "      <td>3.559358</td>\n",
       "      <td>4.797057</td>\n",
       "    </tr>\n",
       "    <tr>\n",
       "      <th>min</th>\n",
       "      <td>8.630000</td>\n",
       "      <td>15.687000</td>\n",
       "    </tr>\n",
       "    <tr>\n",
       "      <th>25%</th>\n",
       "      <td>11.895250</td>\n",
       "      <td>18.716750</td>\n",
       "    </tr>\n",
       "    <tr>\n",
       "      <th>50%</th>\n",
       "      <td>14.356500</td>\n",
       "      <td>21.017500</td>\n",
       "    </tr>\n",
       "    <tr>\n",
       "      <th>75%</th>\n",
       "      <td>16.200750</td>\n",
       "      <td>24.051500</td>\n",
       "    </tr>\n",
       "    <tr>\n",
       "      <th>max</th>\n",
       "      <td>22.328000</td>\n",
       "      <td>35.255000</td>\n",
       "    </tr>\n",
       "  </tbody>\n",
       "</table>\n",
       "</div>"
      ],
      "text/plain": [
       "       Congruent  Incongruent\n",
       "count  24.000000    24.000000\n",
       "mean   14.051125    22.015917\n",
       "std     3.559358     4.797057\n",
       "min     8.630000    15.687000\n",
       "25%    11.895250    18.716750\n",
       "50%    14.356500    21.017500\n",
       "75%    16.200750    24.051500\n",
       "max    22.328000    35.255000"
      ]
     },
     "execution_count": 4,
     "metadata": {},
     "output_type": "execute_result"
    }
   ],
   "source": [
    "dataFrame.describe()"
   ]
  },
  {
   "cell_type": "code",
   "execution_count": 6,
   "metadata": {},
   "outputs": [
    {
     "data": {
      "text/plain": [
       "count    24.000000\n",
       "mean     14.051125\n",
       "std       3.559358\n",
       "min       8.630000\n",
       "25%      11.895250\n",
       "50%      14.356500\n",
       "75%      16.200750\n",
       "max      22.328000\n",
       "Name: Congruent, dtype: float64"
      ]
     },
     "execution_count": 6,
     "metadata": {},
     "output_type": "execute_result"
    }
   ],
   "source": [
    "dataFrame['Congruent'].describe()"
   ]
  },
  {
   "cell_type": "code",
   "execution_count": 8,
   "metadata": {},
   "outputs": [
    {
     "data": {
      "text/plain": [
       "count    24.000000\n",
       "mean     22.015917\n",
       "std       4.797057\n",
       "min      15.687000\n",
       "25%      18.716750\n",
       "50%      21.017500\n",
       "75%      24.051500\n",
       "max      35.255000\n",
       "Name: Incongruent, dtype: float64"
      ]
     },
     "execution_count": 8,
     "metadata": {},
     "output_type": "execute_result"
    }
   ],
   "source": [
    "dataFrame['Incongruent'].describe()"
   ]
  },
  {
   "cell_type": "markdown",
   "metadata": {},
   "source": [
    "Having seen clearly the central tendency, we can find the difference between the two measures and evaluate it using the t-test. "
   ]
  },
  {
   "cell_type": "code",
   "execution_count": 11,
   "metadata": {},
   "outputs": [
    {
     "data": {
      "text/plain": [
       "count    24.000000\n",
       "mean      7.964792\n",
       "std       4.864827\n",
       "min       1.950000\n",
       "25%       3.645500\n",
       "50%       7.666500\n",
       "75%      10.258500\n",
       "max      21.919000\n",
       "dtype: float64"
      ]
     },
     "execution_count": 11,
     "metadata": {},
     "output_type": "execute_result"
    }
   ],
   "source": [
    "difference = dataFrame['Incongruent'] - dataFrame['Congruent']\n",
    "difference.describe()"
   ]
  },
  {
   "cell_type": "code",
   "execution_count": 12,
   "metadata": {},
   "outputs": [],
   "source": [
    "from scipy.stats import ttest_rel"
   ]
  },
  {
   "cell_type": "code",
   "execution_count": 13,
   "metadata": {},
   "outputs": [],
   "source": [
    "a = dataFrame['Incongruent']\n",
    "b = dataFrame['Congruent']\n",
    "t_statistic, pvalue_2tailed = ttest_rel(a, b, axis = 0)"
   ]
  },
  {
   "cell_type": "code",
   "execution_count": 14,
   "metadata": {},
   "outputs": [
    {
     "data": {
      "text/plain": [
       "8.020706944109957"
      ]
     },
     "execution_count": 14,
     "metadata": {},
     "output_type": "execute_result"
    }
   ],
   "source": [
    "t_statistic"
   ]
  },
  {
   "cell_type": "code",
   "execution_count": 15,
   "metadata": {},
   "outputs": [
    {
     "data": {
      "text/plain": [
       "4.103000585711178e-08"
      ]
     },
     "execution_count": 15,
     "metadata": {},
     "output_type": "execute_result"
    }
   ],
   "source": [
    "pvalue_2tailed"
   ]
  },
  {
   "cell_type": "code",
   "execution_count": 16,
   "metadata": {},
   "outputs": [
    {
     "data": {
      "text/plain": [
       "8.206001171422356e-08"
      ]
     },
     "execution_count": 16,
     "metadata": {},
     "output_type": "execute_result"
    }
   ],
   "source": [
    "pvalue_1tailed = pvalue_2tailed*2\n",
    "pvalue_1tailed"
   ]
  },
  {
   "cell_type": "markdown",
   "metadata": {},
   "source": [
    "Let us also appreciate the difference in percentage between the indicators for two states."
   ]
  },
  {
   "cell_type": "code",
   "execution_count": 18,
   "metadata": {},
   "outputs": [
    {
     "data": {
      "text/plain": [
       "count     24.000000\n",
       "mean      63.416211\n",
       "std       42.315618\n",
       "min        9.835185\n",
       "25%       25.107254\n",
       "50%       63.423393\n",
       "75%       86.451366\n",
       "max      177.209152\n",
       "dtype: float64"
      ]
     },
     "execution_count": 18,
     "metadata": {},
     "output_type": "execute_result"
    }
   ],
   "source": [
    "difference_in_percentages = 100*(a - b) / b\n",
    "difference_in_percentages.describe()"
   ]
  },
  {
   "cell_type": "markdown",
   "metadata": {},
   "source": [
    "It is possiable to describe how many times one indicator is superior to the another."
   ]
  },
  {
   "cell_type": "code",
   "execution_count": 19,
   "metadata": {},
   "outputs": [
    {
     "data": {
      "text/plain": [
       "count    24.000000\n",
       "mean      1.634162\n",
       "std       0.423156\n",
       "min       1.098352\n",
       "25%       1.251073\n",
       "50%       1.634234\n",
       "75%       1.864514\n",
       "max       2.772092\n",
       "dtype: float64"
      ]
     },
     "execution_count": 19,
     "metadata": {},
     "output_type": "execute_result"
    }
   ],
   "source": [
    "coefficient = dataFrame['Incongruent'] / dataFrame['Congruent']\n",
    "coefficient.describe()"
   ]
  },
  {
   "cell_type": "markdown",
   "metadata": {},
   "source": [
    "Let's unite the obtained data into one table of the indicators."
   ]
  },
  {
   "cell_type": "code",
   "execution_count": 22,
   "metadata": {},
   "outputs": [
    {
     "data": {
      "text/html": [
       "<div>\n",
       "<style scoped>\n",
       "    .dataframe tbody tr th:only-of-type {\n",
       "        vertical-align: middle;\n",
       "    }\n",
       "\n",
       "    .dataframe tbody tr th {\n",
       "        vertical-align: top;\n",
       "    }\n",
       "\n",
       "    .dataframe thead th {\n",
       "        text-align: right;\n",
       "    }\n",
       "</style>\n",
       "<table border=\"1\" class=\"dataframe\">\n",
       "  <thead>\n",
       "    <tr style=\"text-align: right;\">\n",
       "      <th></th>\n",
       "      <th>Coefficient</th>\n",
       "      <th>Difference in percentages</th>\n",
       "      <th>Difference</th>\n",
       "    </tr>\n",
       "  </thead>\n",
       "  <tbody>\n",
       "    <tr>\n",
       "      <th>0</th>\n",
       "      <td>1.595993</td>\n",
       "      <td>59.599305</td>\n",
       "      <td>7.199</td>\n",
       "    </tr>\n",
       "    <tr>\n",
       "      <th>1</th>\n",
       "      <td>1.116134</td>\n",
       "      <td>11.613364</td>\n",
       "      <td>1.950</td>\n",
       "    </tr>\n",
       "    <tr>\n",
       "      <th>2</th>\n",
       "      <td>2.218110</td>\n",
       "      <td>121.810958</td>\n",
       "      <td>11.650</td>\n",
       "    </tr>\n",
       "    <tr>\n",
       "      <th>3</th>\n",
       "      <td>1.817729</td>\n",
       "      <td>81.772885</td>\n",
       "      <td>7.057</td>\n",
       "    </tr>\n",
       "    <tr>\n",
       "      <th>4</th>\n",
       "      <td>1.554503</td>\n",
       "      <td>55.450269</td>\n",
       "      <td>8.134</td>\n",
       "    </tr>\n",
       "    <tr>\n",
       "      <th>5</th>\n",
       "      <td>1.705998</td>\n",
       "      <td>70.599771</td>\n",
       "      <td>8.640</td>\n",
       "    </tr>\n",
       "    <tr>\n",
       "      <th>6</th>\n",
       "      <td>1.672475</td>\n",
       "      <td>67.247482</td>\n",
       "      <td>9.880</td>\n",
       "    </tr>\n",
       "    <tr>\n",
       "      <th>7</th>\n",
       "      <td>1.935462</td>\n",
       "      <td>93.546233</td>\n",
       "      <td>8.407</td>\n",
       "    </tr>\n",
       "    <tr>\n",
       "      <th>8</th>\n",
       "      <td>2.208488</td>\n",
       "      <td>120.848846</td>\n",
       "      <td>11.361</td>\n",
       "    </tr>\n",
       "    <tr>\n",
       "      <th>9</th>\n",
       "      <td>1.815055</td>\n",
       "      <td>81.505525</td>\n",
       "      <td>11.802</td>\n",
       "    </tr>\n",
       "    <tr>\n",
       "      <th>10</th>\n",
       "      <td>1.098352</td>\n",
       "      <td>9.835185</td>\n",
       "      <td>2.196</td>\n",
       "    </tr>\n",
       "    <tr>\n",
       "      <th>11</th>\n",
       "      <td>1.218721</td>\n",
       "      <td>21.872140</td>\n",
       "      <td>3.346</td>\n",
       "    </tr>\n",
       "    <tr>\n",
       "      <th>12</th>\n",
       "      <td>1.161680</td>\n",
       "      <td>16.167982</td>\n",
       "      <td>2.437</td>\n",
       "    </tr>\n",
       "    <tr>\n",
       "      <th>13</th>\n",
       "      <td>1.200898</td>\n",
       "      <td>20.089787</td>\n",
       "      <td>3.401</td>\n",
       "    </tr>\n",
       "    <tr>\n",
       "      <th>14</th>\n",
       "      <td>1.937088</td>\n",
       "      <td>93.708791</td>\n",
       "      <td>17.055</td>\n",
       "    </tr>\n",
       "    <tr>\n",
       "      <th>15</th>\n",
       "      <td>1.826711</td>\n",
       "      <td>82.671063</td>\n",
       "      <td>10.028</td>\n",
       "    </tr>\n",
       "    <tr>\n",
       "      <th>16</th>\n",
       "      <td>1.359232</td>\n",
       "      <td>35.923222</td>\n",
       "      <td>6.644</td>\n",
       "    </tr>\n",
       "    <tr>\n",
       "      <th>17</th>\n",
       "      <td>1.920199</td>\n",
       "      <td>92.019927</td>\n",
       "      <td>9.790</td>\n",
       "    </tr>\n",
       "    <tr>\n",
       "      <th>18</th>\n",
       "      <td>1.536054</td>\n",
       "      <td>53.605430</td>\n",
       "      <td>6.081</td>\n",
       "    </tr>\n",
       "    <tr>\n",
       "      <th>19</th>\n",
       "      <td>2.772092</td>\n",
       "      <td>177.209152</td>\n",
       "      <td>21.919</td>\n",
       "    </tr>\n",
       "    <tr>\n",
       "      <th>20</th>\n",
       "      <td>1.845952</td>\n",
       "      <td>84.595179</td>\n",
       "      <td>10.950</td>\n",
       "    </tr>\n",
       "    <tr>\n",
       "      <th>21</th>\n",
       "      <td>1.261856</td>\n",
       "      <td>26.185625</td>\n",
       "      <td>3.727</td>\n",
       "    </tr>\n",
       "    <tr>\n",
       "      <th>22</th>\n",
       "      <td>1.119127</td>\n",
       "      <td>11.912735</td>\n",
       "      <td>2.348</td>\n",
       "    </tr>\n",
       "    <tr>\n",
       "      <th>23</th>\n",
       "      <td>1.321982</td>\n",
       "      <td>32.198200</td>\n",
       "      <td>5.153</td>\n",
       "    </tr>\n",
       "  </tbody>\n",
       "</table>\n",
       "</div>"
      ],
      "text/plain": [
       "    Coefficient  Difference in percentages  Difference\n",
       "0      1.595993                  59.599305       7.199\n",
       "1      1.116134                  11.613364       1.950\n",
       "2      2.218110                 121.810958      11.650\n",
       "3      1.817729                  81.772885       7.057\n",
       "4      1.554503                  55.450269       8.134\n",
       "5      1.705998                  70.599771       8.640\n",
       "6      1.672475                  67.247482       9.880\n",
       "7      1.935462                  93.546233       8.407\n",
       "8      2.208488                 120.848846      11.361\n",
       "9      1.815055                  81.505525      11.802\n",
       "10     1.098352                   9.835185       2.196\n",
       "11     1.218721                  21.872140       3.346\n",
       "12     1.161680                  16.167982       2.437\n",
       "13     1.200898                  20.089787       3.401\n",
       "14     1.937088                  93.708791      17.055\n",
       "15     1.826711                  82.671063      10.028\n",
       "16     1.359232                  35.923222       6.644\n",
       "17     1.920199                  92.019927       9.790\n",
       "18     1.536054                  53.605430       6.081\n",
       "19     2.772092                 177.209152      21.919\n",
       "20     1.845952                  84.595179      10.950\n",
       "21     1.261856                  26.185625       3.727\n",
       "22     1.119127                  11.912735       2.348\n",
       "23     1.321982                  32.198200       5.153"
      ]
     },
     "execution_count": 22,
     "metadata": {},
     "output_type": "execute_result"
    }
   ],
   "source": [
    "difference_df = pd.DataFrame(data = {'Coefficient': coefficient, \n",
    "                                    'Difference in percentages': difference_in_percentages, \n",
    "                                    'Difference': difference})\n",
    "difference_df"
   ]
  },
  {
   "cell_type": "markdown",
   "metadata": {},
   "source": [
    "## 4.Provide one or two visualizations that show the distribution of the sample data. Write one or two sentences noting what you observe about the plot or plots."
   ]
  },
  {
   "cell_type": "code",
   "execution_count": 23,
   "metadata": {},
   "outputs": [
    {
     "name": "stdout",
     "output_type": "stream",
     "text": [
      "Populating the interactive namespace from numpy and matplotlib\n"
     ]
    }
   ],
   "source": [
    "%pylab inline\n",
    "import matplotlib.pyplot as plt\n",
    "import seaborn as sns"
   ]
  },
  {
   "cell_type": "code",
   "execution_count": 24,
   "metadata": {},
   "outputs": [
    {
     "data": {
      "text/plain": [
       "<matplotlib.axes._subplots.AxesSubplot at 0x1a1080fda0>"
      ]
     },
     "execution_count": 24,
     "metadata": {},
     "output_type": "execute_result"
    },
    {
     "data": {
      "image/png": "[encoded data removed]",
      "text/plain": [
       "<Figure size 864x288 with 1 Axes>"
      ]
     },
     "metadata": {},
     "output_type": "display_data"
    }
   ],
   "source": [
    "plt.rcParams['figure.figsize'] = (12, 4)\n",
    "dataFrame.plot()"
   ]
  },
  {
   "cell_type": "code",
   "execution_count": 25,
   "metadata": {},
   "outputs": [
    {
     "data": {
      "text/plain": [
       "<matplotlib.axes._subplots.AxesSubplot at 0x1a142f5630>"
      ]
     },
     "execution_count": 25,
     "metadata": {},
     "output_type": "execute_result"
    },
    {
     "data": {
      "image/png": "[encoded data removed]",
      "text/plain": [
       "<Figure size 864x288 with 1 Axes>"
      ]
     },
     "metadata": {},
     "output_type": "display_data"
    }
   ],
   "source": [
    "plt.rcParams['figure.figsize'] = (12, 4)\n",
    "difference.plot()"
   ]
  },
  {
   "cell_type": "code",
   "execution_count": 26,
   "metadata": {},
   "outputs": [
    {
     "data": {
      "text/plain": [
       "<matplotlib.axes._subplots.AxesSubplot at 0x1a14442390>"
      ]
     },
     "execution_count": 26,
     "metadata": {},
     "output_type": "execute_result"
    },
    {
     "data": {
      "image/png": "[encoded data removed]",
      "text/plain": [
       "<Figure size 864x288 with 1 Axes>"
      ]
     },
     "metadata": {},
     "output_type": "display_data"
    }
   ],
   "source": [
    "plt.figure(figsize = (12, 4))\n",
    "coefficient.plot()"
   ]
  },
  {
   "cell_type": "markdown",
   "metadata": {},
   "source": [
    "## 5. Now, perform the statistical test and report your results. What is your confidence and your critical statistic value? Do you reject the null hypothesis or fail to reject it? Come to a conclusion in terms of the experiment task. Did the results match up with your expectations?"
   ]
  },
  {
   "cell_type": "markdown",
   "metadata": {},
   "source": [
    "## Conculsions:\n",
    "We can see the t-test result has a large value. The probability of the events $\\mu_1 = \\mu_2$ \"the population means for two measures(for the congruent words condition and for the incongruent words condition) are equal\" is p=8.2060011714223563e-08. This goes beyond the confidence interval at the level 99% ($\\alpha=0.01$). We must reject the null hypothesis at all. This result is in line with expectations and are easily predictable.\n",
    "\n",
    "In practice, it means that the speed of word reading under the congruent words condition differs significantly from this indicator under the incongruent words condition.  \n",
    "\n",
    "During this experiment, the time for reading under the incongrument words condition was on average 1.6 times greater than the time under the different condition. In the case of other research groups, this coefficient will obviously take other values due to differences in capabilities of cognitive control. "
   ]
  },
  {
   "cell_type": "markdown",
   "metadata": {},
   "source": [
    "## 6.Optional question: What do you think is responsible for the effects observed? Can you think of an alternative or similar task that would result in a similar effect? Some research about the problem will be helpful for thinking about these two questions? \n",
    "The Stroop test helps to identify the flexibility / rigidity of cognitive control. This describing corresponds to the most simple explanation of the effect.\n",
    "\n",
    "The results of the test can characterize the degree of subjective difficulties in changing ways of processing information in a situation of cognitive conflict. Rigid control indicates difficulties in the transition from verbal functions to sensory-perceptual functions due to the low degree of automation. Flexible control shows ease of this transition because of the high degree of automation.\n",
    "\n",
    "However, the Stroop task and its associated effects are a multi-dimensional phenomenon that can not be fully explained by the concepts of cognitive control. Thorough understanding of other mechanisms requires more researches.\n",
    "\n",
    "Of course, many modifications of this test can be useful in measuring and improving in the spheres of selective attention, cognitive flexibility and processing speed. Here are some concrete examples:\n",
    "\n",
    "1) It can be applied in the study of bilingualism. Participants can read on the card the words in one language, then on the other card - in another language, on the third card - the words printed in two languages one after another. This will help to understand whether one language dominates the another and what difficulties a person experiences during switching.\n",
    "\n",
    "2) Exploring the emotional sphere also could be interesting. Offering to read the words on the 4 different cards (positive, negative, neutral and mixed sets of words) will show some results as well, I am sure.\n",
    "\n",
    "3) Exercises in the alternate accounting in the different number systems (for example, decimal and binary, one after another) can significantly extend the possibility of a particular individual."
   ]
  },
  {
   "cell_type": "code",
   "execution_count": null,
   "metadata": {},
   "outputs": [],
   "source": []
  }
 ],
 "metadata": {
  "kernelspec": {
   "display_name": "Python 3",
   "language": "python",
   "name": "python3"
  },
  "language_info": {
   "codemirror_mode": {
    "name": "ipython",
    "version": 3
   },
   "file_extension": ".py",
   "mimetype": "text/x-python",
   "name": "python",
   "nbconvert_exporter": "python",
   "pygments_lexer": "ipython3",
   "version": "3.6.5"
  }
 },
 "nbformat": 4,
 "nbformat_minor": 2
}
