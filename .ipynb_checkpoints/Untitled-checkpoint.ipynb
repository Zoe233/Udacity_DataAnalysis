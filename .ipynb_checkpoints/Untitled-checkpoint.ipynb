{
 "cells": [
  {
   "cell_type": "markdown",
   "metadata": {},
   "source": [
    "# P0：筷子Chopsticks"
   ]
  },
  {
   "cell_type": "markdown",
   "metadata": {},
   "source": [
    "一些研究人员着手确定儿童和成人的最佳筷子长度。   \n",
    "他们提出了衡量一把筷子的效果，称为“食物捏合性能”。   \n",
    "通过计数采摘并放置在杯子中的花生（PPPC）来确定“食物捏合性能”。\n",
    "\n",
    "\n",
    "### 确定筷子最佳长度的调查。  \n",
    "筷子是人类发明的最简单和最流行的手工工具之一，但以前没有人类工程学家进行过调查。  \n",
    "在这项研究中进行了**两项实验室研究**，采用了**随机完整的模块设计**，以评估筷子的长度对成人和儿童的食用性能的影响。31名男大学生和21名小学生作为实验对象，测试180,210,240,270,300和330mm的筷子长度。结果表明，筷子的长度对筷子的筷子性能有显着的影响，长度为240和180mm的筷子分别适用于成人和儿童。根据这些研究结果，研究人员建议有孩子的家庭应提供240和180毫米长的筷子。另外，考虑到人体工程学和成本之间的折衷，餐馆可以提供210毫米长的筷子。"
   ]
  },
  {
   "cell_type": "code",
   "execution_count": null,
   "metadata": {},
   "outputs": [],
   "source": []
  }
 ],
 "metadata": {
  "kernelspec": {
   "display_name": "Python 3",
   "language": "python",
   "name": "python3"
  },
  "language_info": {
   "codemirror_mode": {
    "name": "ipython",
    "version": 3
   },
   "file_extension": ".py",
   "mimetype": "text/x-python",
   "name": "python",
   "nbconvert_exporter": "python",
   "pygments_lexer": "ipython3",
   "version": "3.6.5"
  }
 },
 "nbformat": 4,
 "nbformat_minor": 2
}
