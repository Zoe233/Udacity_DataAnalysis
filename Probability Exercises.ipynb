{
 "cells": [
  {
   "cell_type": "markdown",
   "metadata": {},
   "source": [
    "# 概率面试题精讲"
   ]
  },
  {
   "cell_type": "markdown",
   "metadata": {},
   "source": [
    "![title](./images/probability_001.png)"
   ]
  },
  {
   "cell_type": "markdown",
   "metadata": {},
   "source": [
    "![title](./images/probability_002.png)"
   ]
  },
  {
   "cell_type": "markdown",
   "metadata": {},
   "source": [
    "### 题外话：\n",
    "- 随机数：\n",
    "    - 随机数生成并不容易\n",
    "        - “随机性”和“不可预测性”\n",
    "            - 固定m，自然数n % m 是“均匀”的，具有一定随机性，但密码学不采用它。\n",
    "    - 一般假设已有一个均匀的随机数生成器\n",
    "- 期望的计算： \n",
    "    - 一般转化为方程组：  \n",
    "        $ E(A) = E(A_1) * p_1 +  E(A_2) * p_2 + ...+ 1$"
   ]
  },
  {
   "cell_type": "markdown",
   "metadata": {},
   "source": [
    "![title](./images/probability_003.png)"
   ]
  },
  {
   "cell_type": "markdown",
   "metadata": {},
   "source": [
    " # 例1：关于“独立”的理解 \n",
    " \n",
    "$X_1, X_2$都是二元随机变量，取值0和1的概率各一半，则$X_3 = X_1\\ xor\\  X_2$，它与$X_1, X_2$独立。"
   ]
  },
  {
   "cell_type": "markdown",
   "metadata": {},
   "source": [
    "xor 异或：\n",
    "\n",
    "<img src=\"./images/probability_004.png\" width=\"40%\">"
   ]
  },
  {
   "cell_type": "markdown",
   "metadata": {},
   "source": [
    "分析：  \n",
    "看起来，$X_3$与$X_1, X_2$都有关系，但实际上$X_3$与$X_1, X_2$都是独立的。  \n",
    "\n",
    "很简单，我们可以用枚举法，也就是对应上面的“真值表”。\n",
    "\n",
    "枚举法：{000,011,101,110}。\n",
    "\n",
    "可见当$X_1=0,1$时各有一半情况$X_3 = 0,1$。  \n",
    "即：  \n",
    "当$X_1=0$时，$X_3 =0,1$；  \n",
    "当$X_1=1$时，$X_3 =0,1$；  \n",
    "\n",
    "即$X_1$和$X_3$是独立的。     \n",
    "同理，$X_2$和$X_3$是独立的。    \n",
    "\n",
    "这个结论与$X_3 = X_1\\ xor\\  X_2$的式子，看起来有点“反直觉”。  \n",
    "但实际上是相互独立的。  \n",
    "\n",
    "\n"
   ]
  },
  {
   "cell_type": "markdown",
   "metadata": {},
   "source": [
    "关于独立：  \n",
    "### 不能凭感觉，需要根据定义来判断。\n",
    "如果A和B是独立的，$P(A\\bigcap B) = P(A)*P(B)$"
   ]
  },
  {
   "cell_type": "markdown",
   "metadata": {},
   "source": [
    "p(AB)求的是A，B同时发生的概率，但不要求A,B独立，A,B如果独立，那么p(AB)=p(A)p(B)，不独立就不能写成这样了。  \n",
    "\n",
    "而条件概率就是研究A,B一般不独立的情况的，条件概率的公式P(B|A)=p(AB)/p(A)，假如A,B独立，那么P(B|A)也就是p(B)了，代回条件概率的公式，可以看出它就是独立事件的公式p(AB)=p(A)p(B)了。\n"
   ]
  },
  {
   "cell_type": "markdown",
   "metadata": {},
   "source": [
    "---"
   ]
  },
  {
   "cell_type": "markdown",
   "metadata": {},
   "source": [
    "# 例2：构造随机数发生器\n",
    "假设一个随机数发生器rand7均匀产生1到7之间的随机整数，如何构造rand10，均匀产生1-10之间的随机整数?"
   ]
  },
  {
   "cell_type": "markdown",
   "metadata": {},
   "source": []
  },
  {
   "cell_type": "markdown",
   "metadata": {},
   "source": []
  },
  {
   "cell_type": "code",
   "execution_count": null,
   "metadata": {},
   "outputs": [],
   "source": []
  },
  {
   "cell_type": "code",
   "execution_count": null,
   "metadata": {},
   "outputs": [],
   "source": []
  },
  {
   "cell_type": "code",
   "execution_count": null,
   "metadata": {},
   "outputs": [],
   "source": []
  }
 ],
 "metadata": {
  "kernelspec": {
   "display_name": "Python 3",
   "language": "python",
   "name": "python3"
  },
  "language_info": {
   "codemirror_mode": {
    "name": "ipython",
    "version": 3
   },
   "file_extension": ".py",
   "mimetype": "text/x-python",
   "name": "python",
   "nbconvert_exporter": "python",
   "pygments_lexer": "ipython3",
   "version": "3.6.5"
  }
 },
 "nbformat": 4,
 "nbformat_minor": 2
}
